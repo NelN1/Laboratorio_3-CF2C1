{
 "cells": [
  {
   "cell_type": "markdown",
   "id": "72fe0e8d",
   "metadata": {},
   "source": [
    "# Laboratorio 3: Métodos de Potencias\n",
    "El presente laboratorio nos pide hallar el autovalor dominante que se obtiene a partir de obtener la matriz de las ecuaciones del movimiento e imprimir las iteraciones y su respectivo error, a su vez graficar como varía el error de cada iteración.\n",
    "\n",
    "El conjunto de datos que vamos a usar son los siguientes:\n",
    "\n",
    "$k_{1}=1,k_{2}=2,k_{3}=3,k_{4}=4$\n",
    "\n",
    "$m_{1}=m_{2}=m_{3}=1$\n",
    "\n",
    "Los valores de entradas que vamos a darle del inicio es la matriz de la cual vamos hallar su autovalor dominante, el número de iteraciones y el error en la cual la iteración se detiene en el caso que falten iterar demás. Para concluir, se mostrará la gráfica de como varía el error en cada iteración.\n",
    "\n",
    "Hallando las ecuaciones de movimiento del sistema dado:\n",
    "\n",
    "<p align=\"center\">\n",
    "  <img width=\"650\" height=\"250\" src=\"L3_Sistema.PNG\">\n",
    "</p>\n",
    "El diagrama de cuerpo libre de la masa $m_{1}$ es:\n",
    "\n",
    "<p align=\"center\">\n",
    "  <img width=\"300\" height=\"200\" src=\"L3_DCL1.PNG\">\n",
    "</p>\n",
    "A partir de la Segunda Ley de Newton, en el eje horizontal considerando positivo si apuntan hacia la derecha y negativo si apuntan hacia la izquierda, obtenemos:\n",
    "\n",
    "$$m_{1}\\ddot{x_{1}}=k_{2}(x_{2}-x_{1})-k_{1}x_{1}$$\n",
    "$$m_{1}\\ddot{x_{1}}=-(k_{1}+k_{2})x_{1}+k_{2}x_{2}$$\n",
    "El DCL para $m_{2}$ es:\n",
    "\n",
    "<p align=\"center\">\n",
    "  <img width=\"300\" height=\"200\" src=\"L3_DCL2.PNG\">\n",
    "</p>\n",
    "Usando la Segunda Ley de Newton, en el eje horizontal, obtenemos:\n",
    "\n",
    "$$m_{2}\\ddot{x_{2}}=k_{3}(x_{3}-x_{2})-k_{2}(x_{2}-x_{1})$$\n",
    "$$m_{2}\\ddot{x_{2}}=k_{2}x_{1}-(k_{2}+k_{2})x_{2}+k_{3}x_{3}$$\n",
    "El DLC para $m_{3}$ es:\n",
    "\n",
    "<p align=\"center\">\n",
    "  <img width=\"300\" height=\"200\" src=\"L3_DCL3.PNG\">\n",
    "</p>\n",
    "Usando la Segunda Ley de Newton, en el eje horizontal, obtenemos:\n",
    "\n",
    "$$m_{3}\\ddot{x_{3}}=-k_{3}(x_{3}-x_{2})-k_{4}x_{3}$$\n",
    "$$m_{3}\\ddot{x_{3}}=k_{3}x_{2}-(k_{3}+k_{4})x_{3}$$\n",
    "\n",
    "Reordenando las ecuaciones y dandole forma como matriz obetenemos la siguiente relación matricial:\n",
    "$$\\mathbb{M}\\ddot{\\vec{x}}+\\mathbb{K}\\vec{x}=0$$\n",
    "\n",
    "con \n",
    "$\n",
    "\\vec{x}=\n",
    "\\left(\n",
    "\\begin{array}{c}\n",
    "x_{1}(t) \\\\\n",
    "x_{2}(t) \\\\\n",
    "x_{3}(t) \n",
    "\\end{array}\n",
    "\\right)\n",
    "$, \n",
    "$\n",
    "\\ddot{\\vec{x}}=\n",
    "\\left(\n",
    "\\begin{array}{c}\n",
    "\\ddot{x_{1}}(t) \\\\\n",
    "\\ddot{x_{2}}(t) \\\\\n",
    "\\ddot{x_{3}}(t) \n",
    "\\end{array}\n",
    "\\right)\n",
    "$,\n",
    "$\n",
    "\\mathbb{K}=\n",
    "\\left(\n",
    "\\begin{array}{ccc}\n",
    "(k_{1}+k_{2}) & -k_{2} & 0 \\\\\n",
    "-k_{2} & (k_{2}+k_{3}) & -k_{3} \\\\\n",
    "0 & -k_{3} & (k_{3}+k_{4})\n",
    "\\end{array}\n",
    "\\right)\n",
    "$ y \n",
    "$\n",
    "\\mathbb{M}=\n",
    "\\left(\n",
    "\\begin{array}{ccc}\n",
    "m_{1} & 0 & 0 \\\\\n",
    "0 & m_{2} & 0 \\\\\n",
    "0 & 0 & m_{3}\n",
    "\\end{array}\n",
    "\\right)\n",
    "$.\n",
    "\n",
    "Si $m_{1}=m_{2}=m_{3}=m$ entonces $\\mathbb{M}=mI$, siendo $I$ la matriz identidad de orden 3x3. La ecuación del movimiento quedaría como:\n",
    "$$mI\\ddot{\\vec{x}}+\\mathbb{K}\\vec{x}=0$$\n",
    "\n",
    "Reemplazando los valores del conjunto de datos en $\\mathbb{K}$, obtenemos:\n",
    "\n",
    "$\n",
    "\\mathbb{K}=\n",
    "\\left(\n",
    "\\begin{array}{ccc}\n",
    "3 & -2 & 0 \\\\\n",
    "-2 & 5 & -3 \\\\\n",
    "0 & -3 & 7\n",
    "\\end{array}\n",
    "\\right)\n",
    "$\n",
    "\n",
    "Sea  $\\mathbb{B}=\\frac{1}{m}\\mathbb{K}$, reemplazando:\n",
    "\n",
    "$\n",
    "\\mathbb{B}=\\frac{1}{1}\n",
    "\\left(\n",
    "\\begin{array}{ccc}\n",
    "3 & -2 & 0 \\\\\n",
    "-2 & 5 & -3 \\\\\n",
    "0 & -3 & 7\n",
    "\\end{array}\n",
    "\\right)\n",
    "=\n",
    "\\left(\n",
    "\\begin{array}{ccc}\n",
    "3 & -2 & 0 \\\\\n",
    "-2 & 5 & -3 \\\\\n",
    "0 & -3 & 7\n",
    "\\end{array}\n",
    "\\right)\n",
    "$\n",
    "\n",
    "A partir de la matriz $\\mathbb{B}$ obtendremos sus auto valores resolviendo la siguiente ecuación:\n",
    "\n",
    "$$det(\\mathbb{B}-\\lambda I)=0$$\n",
    "\n",
    "El método que usaremos para obtener sus auto valores es el método de potencias pero con este método únicamente podremos obtener el auto valor dominante de dicha matriz."
   ]
  },
  {
   "cell_type": "markdown",
   "id": "4d437c8d",
   "metadata": {},
   "source": [
    "## Implementación del algoritmo para resolver por el método de potencias y obtener su auto valor dominante\n",
    "\n",
    "El primer paso es cargar las librerías que vamos a usar."
   ]
  },
  {
   "cell_type": "code",
   "execution_count": 1,
   "id": "d6a65a72",
   "metadata": {},
   "outputs": [],
   "source": [
    "import numpy as np\n",
    "import matplotlib.pyplot as plt"
   ]
  },
  {
   "cell_type": "markdown",
   "id": "e005b2f5",
   "metadata": {},
   "source": [
    "Tercer paso, vamos a ingresar nuestras matrices y vectores para al momento de ejecutarla se realicen las operaciones. La matriz $\\mathbb{B}$ le asignaremos la letra A en el algoritmo."
   ]
  },
  {
   "cell_type": "code",
   "execution_count": 5,
   "id": "3fffcf09",
   "metadata": {},
   "outputs": [
    {
     "data": {
      "text/plain": [
       "array([[ 3, -2,  0],\n",
       "       [-2,  5, -3],\n",
       "       [ 0, -3,  7]])"
      ]
     },
     "execution_count": 5,
     "metadata": {},
     "output_type": "execute_result"
    }
   ],
   "source": [
    "A=np.array([[3, -2, 0],[-2, 5, -3],[0, -3, 7]], dtype=float)\n"
   ]
  }
 ],
 "metadata": {
  "kernelspec": {
   "display_name": "Python 3 (ipykernel)",
   "language": "python",
   "name": "python3"
  },
  "language_info": {
   "codemirror_mode": {
    "name": "ipython",
    "version": 3
   },
   "file_extension": ".py",
   "mimetype": "text/x-python",
   "name": "python",
   "nbconvert_exporter": "python",
   "pygments_lexer": "ipython3",
   "version": "3.10.4"
  },
  "vscode": {
   "interpreter": {
    "hash": "5cb993ad934677d83d5564442ec3ca5c9d3349a916a2243e4f4d1d319ba0a441"
   }
  }
 },
 "nbformat": 4,
 "nbformat_minor": 5
}
